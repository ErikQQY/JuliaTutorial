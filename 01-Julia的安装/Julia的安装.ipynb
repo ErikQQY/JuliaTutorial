{
 "cells": [
  {
   "cell_type": "markdown",
   "metadata": {},
   "source": [
    "# Julia的安装  \n",
    "在Windows下，到Julia官网的[Download](https://julialang.org/downloads/)\n",
    "![avatar](https://s1.ax1x.com/2020/07/18/Ucteun.png)\n",
    "点击下载**64-bit**  \n",
    "![avatar](https://s1.ax1x.com/2020/07/18/UcNGi8.png)  \n",
    "当然，Julia的安装网上都有很多安装教程，我就不再一一赘述了:joy:"
   ]
  }
 ],
 "metadata": {
  "kernelspec": {
   "display_name": "Julia 1.4.1",
   "language": "julia",
   "name": "julia-1.4"
  },
  "language_info": {
   "file_extension": ".jl",
   "mimetype": "application/julia",
   "name": "julia",
   "version": "1.4.1"
  }
 },
 "nbformat": 4,
 "nbformat_minor": 4
}
