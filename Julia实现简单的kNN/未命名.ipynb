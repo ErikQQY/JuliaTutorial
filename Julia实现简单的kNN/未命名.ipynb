{
 "cells": [
  {
   "cell_type": "code",
   "execution_count": 1,
   "metadata": {},
   "outputs": [
    {
     "data": {
      "text/plain": [
       "\"D:\\\\Project\\\\JuliaTutorial\\\\JuliaTutorial\\\\Julia实现简单的kNN\""
      ]
     },
     "execution_count": 1,
     "metadata": {},
     "output_type": "execute_result"
    }
   ],
   "source": [
    "pwd()"
   ]
  },
  {
   "cell_type": "code",
   "execution_count": 2,
   "metadata": {},
   "outputs": [
    {
     "ename": "UndefVarError",
     "evalue": "UndefVarError: T not defined",
     "output_type": "error",
     "traceback": [
      "UndefVarError: T not defined",
      "",
      "Stacktrace:",
      " [1] top-level scope at In[2]:1"
     ]
    }
   ],
   "source": [
    "#计算x，y两点之间距离\n",
    "function distnce{T<:Number}(x::Array{T,1},y::Array{T,1})\n",
    "    dist=0#initialize\n",
    "    for i in 1:length(x)\n",
    "        dist+=(x[i]-y[i])^2#遍历\n",
    "    end\n",
    "    dist=sqrt(dist)\n",
    "    return dist\n",
    "end\n",
    "\n",
    "\n",
    "function classify{T<:Any}(distances::Array{Float,1},labels::Array{T,1,k::Int64})\n",
    "    class=unique(labels)\n",
    "    nc=length(class)\n",
    "    indexes=Array(Int,0)\n",
    "    M=maxtype(typeof(distances[1]))\n",
    "    class_count=Array(Int,nc)\n",
    "    for i in 1:k\n",
    "        indexes[i]=inmin(distances)\n",
    "        distances[indexes[i]]=M\n",
    "    end\n",
    "    klabels=labels[indexes]\n",
    "\n",
    "    for i in i:nc\n",
    "        for j in 1:k\n",
    "            if klabels[j]==class[i]\n",
    "                class_count[i]+=1\n",
    "                break\n",
    "            end\n",
    "        end\n",
    "    end\n",
    "    index=inmax(class_count)\n",
    "    return class[index]\n",
    "end\n",
    "\n",
    "function apply_kNN{T1<:Number,T2<:Any}(X::Array{T1,2},x::Array{T2,1},Y::Array{T1,2},k::Int)\n",
    "    N=size(X,1)\n",
    "    n=size(Y,1)\n",
    "    D=Array(Float,N)\n",
    "    z=Array(typeof(x[1],n))\n",
    "    for i in 1:n\n",
    "        for j in 1:N\n",
    "            D[j]=distance(X[j,:],Y[i,:])\n",
    "        end\n",
    "        z[i]=classify(D,x,k)\n",
    "    end\n",
    "    return z\n",
    "end\n",
    "\n",
    "data=readcsv(\"magic04.csv\")\n",
    "I=map(Float64,data[:,1:(end-1)])\n",
    "O=data[:,end]\n"
   ]
  }
 ],
 "metadata": {
  "kernelspec": {
   "display_name": "Julia 1.4.1",
   "language": "julia",
   "name": "julia-1.4"
  },
  "language_info": {
   "file_extension": ".jl",
   "mimetype": "application/julia",
   "name": "julia",
   "version": "1.4.1"
  }
 },
 "nbformat": 4,
 "nbformat_minor": 4
}
