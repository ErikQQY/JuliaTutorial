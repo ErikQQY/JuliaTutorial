{
 "cells": [
  {
   "cell_type": "markdown",
   "metadata": {},
   "source": [
    "# 数值系统\n",
    ">数值系统\n",
    ">>整型(Integers)\n",
    ">>浮点型(Float)\n",
    ">>布尔型(Bool)\n",
    ">>有理数型(Rational)\n",
    ">>复数型(Complex)\n",
    "\n",
    "## 整型\n",
    "\n",
    "|具体类型|是否分正负|位数|最小值|最大值|\n",
    "|:------|:-------|:--|:-----|:---|\n",
    "|Int8|√|8|$-2^7$|$2^7-1$|\n",
    "|UInt8|×|8|0|$2^8-1$|\n",
    "|Int16|√|16|$-2^{15}$|$2^{15}-1$|\n",
    "|UInt16|×|16|0|$2^{16}-1$|\n",
    "|Int32|√|32|$-2^{31}$|$2^{31}-1$|\n",
    "|UInt32|×|32|0|$2^{32}-1$|\n",
    "|Int64|√|64|$-2^{63}$|$2^{63}-1$|\n",
    "|UInt64|×|64|$0$|$2{64}-1$|\n",
    "|Int128|√|128|$-2^{127}$|$2^{127}-1$|\n",
    "|UInt128|×|128|$0$|$2^{128}-1$|\n",
    "**可直接通过内置函数来获取类型的最大最小值**\n",
    "\n",
    "最大值：```typemax()```\n",
    "最小值：```typemin()```"
   ]
  },
  {
   "cell_type": "code",
   "execution_count": 1,
   "metadata": {},
   "outputs": [
    {
     "data": {
      "text/plain": [
       "9223372036854775807"
      ]
     },
     "execution_count": 1,
     "metadata": {},
     "output_type": "execute_result"
    }
   ],
   "source": [
    "typemax(Int64)"
   ]
  },
  {
   "cell_type": "code",
   "execution_count": 2,
   "metadata": {},
   "outputs": [
    {
     "data": {
      "text/plain": [
       "-2147483648"
      ]
     },
     "execution_count": 2,
     "metadata": {},
     "output_type": "execute_result"
    }
   ],
   "source": [
    "typemin(Int32)"
   ]
  }
 ],
 "metadata": {
  "kernelspec": {
   "display_name": "Julia 1.4.1",
   "language": "julia",
   "name": "julia-1.4"
  },
  "language_info": {
   "file_extension": ".jl",
   "mimetype": "application/julia",
   "name": "julia",
   "version": "1.4.1"
  }
 },
 "nbformat": 4,
 "nbformat_minor": 4
}
